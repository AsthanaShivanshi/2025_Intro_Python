{
  "cells": [
    {
      "cell_type": "markdown",
      "metadata": {
        "id": "view-in-github",
        "colab_type": "text"
      },
      "source": [
        "<a href=\"https://colab.research.google.com/github/AsthanaShivanshi/2025_Intro_Python/blob/main/notebook/W1_S2_Tutorial.ipynb\" target=\"_parent\"><img src=\"https://colab.research.google.com/assets/colab-badge.svg\" alt=\"Open In Colab\"/></a>"
      ]
    },
    {
      "cell_type": "markdown",
      "metadata": {
        "id": "As6EA_JX91Ue"
      },
      "source": [
        "# Data Structure, Functions, and Classes\n",
        "\n",
        "In this notebook, we will be discovering how data is stored in Python. We will cover:\n",
        "\n",
        "1. Lists\n",
        "2. Tuples\n",
        "3. Dictionaries\n",
        "\n",
        "Reference:\n",
        "* IBM Congnitive Class - Intro to Python (https://github.com/computationalcore/introduction-to-python)\n",
        "* CUSP UCSL bootcamp 2017 (https://github.com/Mohitsharma44/ucsl17)"
      ]
    },
    {
      "cell_type": "markdown",
      "metadata": {
        "id": "CzbcuCye96oD"
      },
      "source": [
        "## **Lists**\n",
        "Creating lists is very easy in Python. We can create lists by separating different items with commas in square brackets:\\\n",
        "`[Item1,Item2,Item3]`\n",
        "\n",
        "There are many different ways to interact with lists. Exploring them is part of the fun of Python.\n",
        "\n",
        "**list.append(x)** Add an item to the end of the list. Equivalent to `a[len(a):] = [x]`.\n",
        "\n",
        "**list.extend(L)** Extend the list by appending all the items in the given list. Equivalent to `a[len(a):] = L`.\n",
        "\n",
        "**list.insert(i, x)** Insert an item at a given position. The first argument is\n",
        "the index of the element before which to insert, so `a.insert(0, x)` inserts\n",
        "at the front of the list, and `a.insert(len(a), x)` is equivalent to\n",
        "`a.append(x)`.\n",
        "\n",
        "**list.remove(x)** Remove the first item from the list whose value is x. It is an error if there is no such item.\n",
        "\n",
        "**list.pop([i])** Remove the item at the given position in the list, and return it.\n",
        "If no index is specified, `a.pop()` removes and returns the last item in the list.\n",
        "(The square brackets around the i in the method signature denote that the\n",
        " parameter is optional, not that you should type square brackets at that\n",
        " position. You will see this notation frequently in the Python Library Reference.)\n",
        "\n",
        "**list.clear()** Remove all items from the list. Equivalent to `del a[:]`.\n",
        "\n",
        "**list.index(x)** Return the index in the list of the first item whose value is x.\n",
        "It is an error if there is no such item.\n",
        "\n",
        "**list.count(x)** Return the number of times x appears in the list.\n",
        "\n",
        "**list.sort()** Sort the items of the list in place.\n",
        "\n",
        "**list.reverse()** Reverse the elements of the list in place.\n",
        "\n",
        "**list.copy()** Return a shallow copy of the list. Equivalent to `a[:]`."
      ]
    },
    {
      "cell_type": "code",
      "execution_count": 1,
      "metadata": {
        "colab": {
          "base_uri": "https://localhost:8080/"
        },
        "id": "D7hU4VTd98ni",
        "outputId": "e479a76f-a30f-49b3-f8b7-25f67ad54645"
      },
      "outputs": [
        {
          "output_type": "execute_result",
          "data": {
            "text/plain": [
              "list"
            ]
          },
          "metadata": {},
          "execution_count": 1
        }
      ],
      "source": [
        "# Let's experiment with some of these methods!\n",
        "# 1. Create a list first\n",
        "l = ['dog', 'cat', 'fish','chicken','eggs','duck']\n",
        "type(l)"
      ]
    },
    {
      "cell_type": "code",
      "execution_count": 2,
      "metadata": {
        "colab": {
          "base_uri": "https://localhost:8080/"
        },
        "id": "ktyeLG7Z927-",
        "outputId": "90ee0914-d587-4bc5-b3bf-d375d43075c2"
      },
      "outputs": [
        {
          "output_type": "stream",
          "name": "stdout",
          "text": [
            "dog duck ['dog', 'cat', 'fish'] ['chicken', 'eggs']\n"
          ]
        }
      ],
      "source": [
        "# Slicing the list\n",
        "print(l[0],l[-1],l[0:3],l[-3:-1])"
      ]
    },
    {
      "cell_type": "markdown",
      "metadata": {
        "id": "GLjJPEh59-aj"
      },
      "source": [
        "**Consider memorizing this syntax!**\n",
        "It is central to so much of Python and often proves confusing for users coming from other languages."
      ]
    },
    {
      "cell_type": "markdown",
      "metadata": {
        "id": "gdeI3-vu-DHd"
      },
      "source": [
        "#### **Updating list**\n",
        "Unlike strings and tuples, lists are mutable. You can update the list and change the items whenever you want."
      ]
    },
    {
      "cell_type": "code",
      "execution_count": 3,
      "metadata": {
        "colab": {
          "base_uri": "https://localhost:8080/"
        },
        "id": "yAkzz4d1-AVO",
        "outputId": "a852b0f3-9d22-4378-b65f-38c8ff599707"
      },
      "outputs": [
        {
          "output_type": "stream",
          "name": "stdout",
          "text": [
            "Original Contents: \n",
            " ['dog', 'cat', 'Tree', 'chicken', 'eggs', 'duck']\n",
            "Original Length of array: \n",
            " 6\n",
            "Modified Contents: \n",
            " ['dog', 'cat', 'eggs', 'duck']\n",
            "Modified Length of array: \n",
            " 4\n"
          ]
        }
      ],
      "source": [
        "my_list = ['dog', 'cat', 'fish','chicken','eggs','duck']\n",
        "my_list[2] = 'Tree'\n",
        "print('Original Contents: \\n', my_list)\n",
        "print('Original Length of array: \\n', len(my_list))\n",
        "\n",
        "# Remove some elements/ changing the size\n",
        "my_list[2:4] = []\n",
        "print('Modified Contents: \\n', my_list)\n",
        "print('Modified Length of array: \\n', len(my_list))"
      ]
    },
    {
      "cell_type": "markdown",
      "metadata": {
        "id": "yHVTz0Dj_GGF"
      },
      "source": [
        "Let modify the list with some list specific methods we have discussed earlier"
      ]
    },
    {
      "cell_type": "code",
      "execution_count": 4,
      "metadata": {
        "colab": {
          "base_uri": "https://localhost:8080/"
        },
        "id": "4oWAQmg2-GA9",
        "outputId": "556fe038-2145-4343-803a-fc6a783beddc"
      },
      "outputs": [
        {
          "output_type": "stream",
          "name": "stdout",
          "text": [
            "['dog', 'cat', 'fish', 'chicken', 'eggs', 'duck', 'Python']\n",
            "['Julia', 'dog', 'cat', 'fish', 'chicken', 'eggs', 'duck', 'Python']\n"
          ]
        }
      ],
      "source": [
        "#@title  #### **Add new items to list**\n",
        "my_list = ['dog', 'cat', 'fish','chicken','eggs','duck']\n",
        "my_list.append('Python') # It will append the item to the end of the list, append default: end\n",
        "print(my_list)\n",
        "my_list.insert(0, 'Julia')\n",
        "print(my_list)"
      ]
    },
    {
      "cell_type": "code",
      "execution_count": 5,
      "metadata": {
        "colab": {
          "base_uri": "https://localhost:8080/"
        },
        "id": "0YkFz9AI_LEG",
        "outputId": "6544bd68-8f5a-4535-fcbc-22d22f9549af"
      },
      "outputs": [
        {
          "output_type": "stream",
          "name": "stdout",
          "text": [
            "['dog', 'cat', 'fish', 'chicken', 'eggs', 'duck', 'Python']\n",
            "['dog', 'cat', 'fish', 'chicken', 'eggs', 'duck']\n"
          ]
        }
      ],
      "source": [
        "#@title  #### **Remove list items**\n",
        "my_list.pop(0)\n",
        "print(my_list)\n",
        "del(my_list[-1])\n",
        "print(my_list)"
      ]
    },
    {
      "cell_type": "code",
      "execution_count": 6,
      "metadata": {
        "colab": {
          "base_uri": "https://localhost:8080/"
        },
        "id": "T-Y-PmwF_MUQ",
        "outputId": "0e671d17-95f5-4129-ab39-42cb972b638d"
      },
      "outputs": [
        {
          "output_type": "stream",
          "name": "stdout",
          "text": [
            "1\n",
            "5\n"
          ]
        }
      ],
      "source": [
        "#@title #### **Count, Index**\n",
        "print(my_list.count('fish'))\n",
        "print(my_list.index('duck'))"
      ]
    },
    {
      "cell_type": "code",
      "execution_count": 7,
      "metadata": {
        "colab": {
          "base_uri": "https://localhost:8080/"
        },
        "id": "-mUrFOuA_N2S",
        "outputId": "7baa6851-ca0d-4fef-c7b4-08ee9cd29ffa"
      },
      "outputs": [
        {
          "output_type": "stream",
          "name": "stdout",
          "text": [
            "['duck', 'eggs', 'chicken', 'fish', 'cat', 'dog']\n",
            "['cat', 'chicken', 'dog', 'duck', 'eggs', 'fish']\n",
            "['fish', 'eggs', 'duck', 'dog', 'chicken', 'cat']\n"
          ]
        }
      ],
      "source": [
        "#@title #### **Sort, Reverse**\n",
        "my_list = ['dog', 'cat', 'fish','chicken','eggs','duck']\n",
        "my_list.reverse()\n",
        "print(my_list)\n",
        "my_list.sort()\n",
        "print(my_list)\n",
        "my_list.sort(reverse=True)\n",
        "print(my_list)"
      ]
    },
    {
      "cell_type": "code",
      "execution_count": 10,
      "metadata": {
        "colab": {
          "base_uri": "https://localhost:8080/"
        },
        "id": "Y5iyUrwW_Qub",
        "outputId": "8dc95d03-2be3-49c8-ea54-758c51745c51"
      },
      "outputs": [
        {
          "output_type": "stream",
          "name": "stdout",
          "text": [
            "['dog', 'cat', 'fish', 'chicken', 'eggs', 'duck', 'Python', 'Julia', 'C++']\n",
            "['dog', 'cat', 'fish', 'chicken', 'eggs', 'duck', 'Python', 'Julia', 'C++']\n"
          ]
        }
      ],
      "source": [
        "#@title #### **List Concatenation**\n",
        "my_list = ['dog', 'cat', 'fish','chicken','eggs','duck']\n",
        "my_list2 = ['Python','Julia','C++']\n",
        "print(my_list+my_list2) #concatenate\n",
        "my_list.extend(my_list2)\n",
        "print(my_list)"
      ]
    },
    {
      "cell_type": "markdown",
      "metadata": {
        "id": "iEuE6l38_TDj"
      },
      "source": [
        "#### **Use lists in loops**"
      ]
    },
    {
      "cell_type": "markdown",
      "source": [
        "For addition, one has to use loops"
      ],
      "metadata": {
        "id": "qJjURjjOOHsj"
      }
    },
    {
      "cell_type": "code",
      "execution_count": 12,
      "metadata": {
        "colab": {
          "base_uri": "https://localhost:8080/"
        },
        "id": "DuGwy4v0_adM",
        "outputId": "a7b8547d-4029-46ae-99f6-506b04ddd8da"
      },
      "outputs": [
        {
          "output_type": "stream",
          "name": "stdout",
          "text": [
            "my_list[0] : dog\n",
            "my_list[1] : cat\n",
            "my_list[2] : fish\n",
            "my_list[3] : chicken\n",
            "my_list[4] : eggs\n",
            "my_list[5] : duck\n",
            "my_list[6] : Python\n",
            "my_list[7] : Julia\n",
            "my_list[8] : C++\n"
          ]
        }
      ],
      "source": [
        "for index in range(len(my_list)): # start from 0 and go till the length of the list.\n",
        "    print(\"my_list[{}] : {}\".format(index, my_list[index]))"
      ]
    },
    {
      "cell_type": "code",
      "execution_count": 13,
      "metadata": {
        "colab": {
          "base_uri": "https://localhost:8080/"
        },
        "id": "6FBpPecA_d-0",
        "outputId": "2186b69d-7409-4597-bd93-dd630d8ce20a"
      },
      "outputs": [
        {
          "output_type": "stream",
          "name": "stdout",
          "text": [
            "my_list[0] : dog\n",
            "my_list[1] : cat\n",
            "my_list[2] : fish\n",
            "my_list[3] : chicken\n",
            "my_list[4] : eggs\n",
            "my_list[5] : duck\n",
            "my_list[6] : Python\n",
            "my_list[7] : Julia\n",
            "my_list[8] : C++\n"
          ]
        }
      ],
      "source": [
        "# We can actually do the same thing with enumerate()\n",
        "for index,items in enumerate(my_list):\n",
        "  print(\"my_list[{}] : {}\".format(index,items))"
      ]
    },
    {
      "cell_type": "markdown",
      "metadata": {
        "id": "X7mxdvzL_swr"
      },
      "source": [
        "**List Comprehension**\n",
        "\n",
        "List comprehension is a syntactic way of creating a list based on the existing list, just like we did when copying the lists above. The basic structure of the syntax includes a for loop that traverses the list and evaluates a condition using the if.. else condition. It then stores the output of the condition as a new list. Let's take a look at a quick example:"
      ]
    },
    {
      "cell_type": "code",
      "execution_count": 14,
      "metadata": {
        "colab": {
          "base_uri": "https://localhost:8080/"
        },
        "id": "Lpg1hilm_gZm",
        "outputId": "8d340cd9-e6d0-4521-a3fd-0f9e91a4596b"
      },
      "outputs": [
        {
          "output_type": "stream",
          "name": "stdout",
          "text": [
            "['dog', 'fish', 'eggs', 'Python', 'C++']\n",
            "[0, 1, 4, 9, 16]\n"
          ]
        }
      ],
      "source": [
        "my_list1 = [elem for index,elem in enumerate(my_list) if index % 2 == 0]\n",
        "print(my_list1)\n",
        "\n",
        "squares = [n**2 for n in range(5)]\n",
        "print(squares)"
      ]
    },
    {
      "cell_type": "code",
      "source": [
        "for index,elem in enumerate(my_list):  #Index comes first\n",
        "  if index % 2 == 0:\n",
        "    print(elem)"
      ],
      "metadata": {
        "colab": {
          "base_uri": "https://localhost:8080/"
        },
        "id": "4X8amyJBPMX9",
        "outputId": "91ab9c33-c9c3-4f72-e383-1f8df092a162"
      },
      "execution_count": 21,
      "outputs": [
        {
          "output_type": "stream",
          "name": "stdout",
          "text": [
            "dog\n",
            "fish\n",
            "eggs\n",
            "Python\n",
            "C++\n"
          ]
        }
      ]
    },
    {
      "cell_type": "markdown",
      "metadata": {
        "id": "JeZ4qEmv_ZdH"
      },
      "source": [
        "**Traverse two lists together with `zip()`**"
      ]
    },
    {
      "cell_type": "code",
      "execution_count": 22,
      "metadata": {
        "colab": {
          "base_uri": "https://localhost:8080/"
        },
        "id": "OXc3dNzA_ztj",
        "outputId": "63b856eb-eea8-4562-8805-110fa1195618"
      },
      "outputs": [
        {
          "output_type": "stream",
          "name": "stdout",
          "text": [
            "first: pig second: 0\n",
            "first: duck second: 1\n",
            "first: butterfly second: 2\n"
          ]
        }
      ],
      "source": [
        "# iterate over two lists together uzing zip\n",
        "for item1, item2 in zip(['pig','duck','butterfly'],[0,1,2]):\n",
        "    print('first:', item1, 'second:', item2)"
      ]
    },
    {
      "cell_type": "markdown",
      "metadata": {
        "id": "Gwkq2ppUAeiw"
      },
      "source": [
        "## **Tuples**\n",
        "Tuples are similar to lists, but they are *immutable*—they can’t be extended or modified. What is the point of this? Generally speaking: to pack together inhomogeneous data. Tuples can then be unpacked and distributed by other parts of your code.\n",
        "\n",
        "Tuples may seem confusing at first, but with time you will come to appreciate them."
      ]
    },
    {
      "cell_type": "code",
      "execution_count": 23,
      "metadata": {
        "colab": {
          "base_uri": "https://localhost:8080/"
        },
        "id": "s2DOjqpjAfbE",
        "outputId": "ec2738ca-906f-4620-8e27-776e4f629049"
      },
      "outputs": [
        {
          "output_type": "execute_result",
          "data": {
            "text/plain": [
              "tuple"
            ]
          },
          "metadata": {},
          "execution_count": 23
        }
      ],
      "source": [
        "# tuples are created with parentheses, or just commas\n",
        "a = ('Ryan', 33, True)\n",
        "b = 'Takaya', 25, False\n",
        "type(b)"
      ]
    },
    {
      "cell_type": "code",
      "execution_count": 24,
      "metadata": {
        "colab": {
          "base_uri": "https://localhost:8080/"
        },
        "id": "JFllK1E2Ahed",
        "outputId": "64f9ea26-dad0-4ea9-db24-10cf5f2841c3"
      },
      "outputs": [
        {
          "output_type": "stream",
          "name": "stdout",
          "text": [
            "33\n"
          ]
        }
      ],
      "source": [
        "# can be indexed like arrays\n",
        "print(a[1]) # not the first element!"
      ]
    },
    {
      "cell_type": "code",
      "execution_count": 25,
      "metadata": {
        "colab": {
          "base_uri": "https://localhost:8080/"
        },
        "id": "KRV2yk6TAjzj",
        "outputId": "be369d9f-5c54-4b60-b69b-45f1289782d3"
      },
      "outputs": [
        {
          "output_type": "stream",
          "name": "stdout",
          "text": [
            "Ryan 33 True\n"
          ]
        }
      ],
      "source": [
        "# and they can be unpacked\n",
        "name, age, status = a\n",
        "print(name,age,status)"
      ]
    },
    {
      "cell_type": "code",
      "execution_count": 26,
      "metadata": {
        "id": "w3QMVyLvAlhC",
        "colab": {
          "base_uri": "https://localhost:8080/"
        },
        "outputId": "498bdd84-2e98-465f-876e-2fe712ed8937"
      },
      "outputs": [
        {
          "output_type": "stream",
          "name": "stdout",
          "text": [
            "0\n"
          ]
        }
      ],
      "source": [
        "print(a.index('Ryan'))"
      ]
    },
    {
      "cell_type": "markdown",
      "metadata": {
        "id": "wlCgfXt7Am59"
      },
      "source": [
        "## **Dictionaries**\n",
        "This is an extremely useful data structure. It maps **keys** to **values**.\n",
        "\n",
        "Dictionaries are unordered!"
      ]
    },
    {
      "cell_type": "code",
      "execution_count": 28,
      "metadata": {
        "id": "165sS3z5A4CD"
      },
      "outputs": [],
      "source": [
        "#@title #### **Different ways to create dictionaries**\n",
        "d = {'name': 'Timothee', 'age': 1} # Write your name and your age here\n",
        "e = dict(name='Timothee', age=1) # Write someone else's name and their age here"
      ]
    },
    {
      "cell_type": "code",
      "execution_count": 29,
      "metadata": {
        "colab": {
          "base_uri": "https://localhost:8080/"
        },
        "id": "T94QBiI3A734",
        "outputId": "dcb7c433-a3be-4b4a-f827-b742bd9279f7"
      },
      "outputs": [
        {
          "output_type": "stream",
          "name": "stdout",
          "text": [
            "Timothee\n",
            "name:    Timothee\n",
            "gender:    Not Found\n"
          ]
        }
      ],
      "source": [
        "#@title #### **Access Dictionary Items**\n",
        "print(d['name'])\n",
        "print(\"name:   \", d.get('name'  , 'Not Found'))\n",
        "print(\"gender:   \", d.get('gender', 'Not Found'))"
      ]
    },
    {
      "cell_type": "code",
      "execution_count": 30,
      "metadata": {
        "colab": {
          "base_uri": "https://localhost:8080/"
        },
        "id": "I_XHDwZiA9Pa",
        "outputId": "f3d661d7-93d2-4203-fe7d-8d5ac4aff656"
      },
      "outputs": [
        {
          "output_type": "execute_result",
          "data": {
            "text/plain": [
              "{'name': 'Timothee', 'age': 1, 'height': (1, 50)}"
            ]
          },
          "metadata": {},
          "execution_count": 30
        }
      ],
      "source": [
        "#@title #### **Updating Dictionary**\n",
        "# Add a new variable-value pair:\n",
        "d['height'] = (1,50) # a tuple, e.g. your height in (meters,centimeters)\n",
        "d"
      ]
    },
    {
      "cell_type": "code",
      "execution_count": null,
      "metadata": {
        "colab": {
          "base_uri": "https://localhost:8080/"
        },
        "id": "rqIhYfWBA-ar",
        "outputId": "5239fe5c-5477-4280-a72c-f4757144d683"
      },
      "outputs": [
        {
          "name": "stdout",
          "output_type": "stream",
          "text": [
            "{'name': 'Timothee', 'age': 1, 'height': (1, 50), 'location': 'Lausanne', 'nationality': 'CH', 'birth_year': '2021'}\n"
          ]
        }
      ],
      "source": [
        "#@title #### **Append Dictionary**\n",
        "# update() add two dictionary together\n",
        "newdict = dict(location='Lausanne',nationality='CH',birth_year='2021')\n",
        "d.update(newdict)\n",
        "print(d)"
      ]
    },
    {
      "cell_type": "code",
      "execution_count": 31,
      "metadata": {
        "colab": {
          "base_uri": "https://localhost:8080/"
        },
        "id": "v_1gPA7jA_qB",
        "outputId": "1212381d-fa13-4de2-ba99-758483579ddc"
      },
      "outputs": [
        {
          "output_type": "stream",
          "name": "stdout",
          "text": [
            "Identical? True\n"
          ]
        }
      ],
      "source": [
        "#@title #### **Remove Elements from Dictionary**\n",
        "# pop(),del()\n",
        "d2 = d.copy()\n",
        "d2.pop('age')\n",
        "del d['age']\n",
        "print(f\"Identical? {d==d2}\")"
      ]
    },
    {
      "cell_type": "code",
      "execution_count": 34,
      "metadata": {
        "colab": {
          "base_uri": "https://localhost:8080/"
        },
        "id": "XLZvTWWFBFKd",
        "outputId": "99287c1b-a05e-40a2-aa8f-d7a596609f96"
      },
      "outputs": [
        {
          "output_type": "stream",
          "name": "stdout",
          "text": [
            "name Timothee\n",
            "height (1, 50)\n"
          ]
        }
      ],
      "source": [
        "#@title #### **Traverse Dictionary**\n",
        "# iterate over keys\n",
        "for k in d: #For key in dictionary\n",
        "    print(k, d[k])"
      ]
    },
    {
      "cell_type": "code",
      "execution_count": 35,
      "metadata": {
        "colab": {
          "base_uri": "https://localhost:8080/"
        },
        "id": "oR4Wt1faBGen",
        "outputId": "e3260bfc-58be-4391-f3b4-b2a3d150f14e"
      },
      "outputs": [
        {
          "output_type": "stream",
          "name": "stdout",
          "text": [
            "name Timothee\n",
            "height (1, 50)\n"
          ]
        }
      ],
      "source": [
        "# better way\n",
        "for key, val in d.items():\n",
        "    print(key, val)"
      ]
    },
    {
      "cell_type": "code",
      "execution_count": 36,
      "metadata": {
        "colab": {
          "base_uri": "https://localhost:8080/"
        },
        "id": "ZvXtIujQBH5N",
        "outputId": "ad4563c1-b816-4843-8882-996528652e01"
      },
      "outputs": [
        {
          "output_type": "stream",
          "name": "stdout",
          "text": [
            "['name', 'height']\n",
            "['Timothee', (1, 50)]\n",
            "[('name', 'Timothee'), ('height', (1, 50))]\n"
          ]
        }
      ],
      "source": [
        "print(list(d.keys()))\n",
        "print(list(d.values()))\n",
        "print(list(d.items()))"
      ]
    },
    {
      "cell_type": "code",
      "execution_count": 38,
      "metadata": {
        "colab": {
          "base_uri": "https://localhost:8080/"
        },
        "id": "xA9cTpBrBJiH",
        "outputId": "51a1546f-8497-453e-f7eb-4a5ef2f087f8"
      },
      "outputs": [
        {
          "output_type": "stream",
          "name": "stdout",
          "text": [
            "AL : Alabama\n",
            "CA : California\n",
            "NJ : New Jersey\n",
            "NY : New York\n"
          ]
        }
      ],
      "source": [
        "#@title #### **Sort Dictionary**\n",
        "# sorted()\n",
        "states_dict = {'AL': 'Alabama', 'CA': 'California',\n",
        "               'NJ': 'New Jersey', 'NY': 'New York'}\n",
        "sorted_keys = sorted(list(states_dict.keys()), reverse=False)\n",
        "for key in sorted_keys:\n",
        "    print('{} : {}'.format(key, states_dict[key]))"
      ]
    },
    {
      "cell_type": "markdown",
      "metadata": {
        "id": "hrRHXOpMBzwQ"
      },
      "source": [
        "## **Functions and Classes**\n",
        "For longer and more complex tasks, it is important to organize your code into reuseable elements. For example, if you find yourself cutting and pasting the same or similar lines of code over and over, you probably need to define a *function* to encapsulate that code and make it reusable. An important principle in programming in **DRY**: “don’t repeat yourself”. Repetition is tedious and opens you up to errors. Strive for elegance and simplicity in your programs.\n",
        "\n",
        "We can use the following two things to organize our code:\n",
        "\n",
        "1. Functions\n",
        "2. Classes\n",
        "\n",
        "Reference:\n",
        "* IBM Congnitive Class - Intro to Python (https://github.com/computationalcore/introduction-to-python)\n",
        "* CUSP UCSL bootcamp 2017 (https://github.com/Mohitsharma44/ucsl17)\n",
        "* Introduction to Python (Ryan Abernathy; https://rabernat.github.io/research_computing/intro-to-python.html)"
      ]
    },
    {
      "cell_type": "markdown",
      "metadata": {
        "id": "1nCJwF_EB5jT"
      },
      "source": [
        "### **Functions**\n",
        "Functions are a central part of advanced python programming. Functions take some inputs (“arguments”) and do something in response. Usually functions return something, but not always."
      ]
    },
    {
      "cell_type": "code",
      "execution_count": 40,
      "metadata": {
        "id": "QDxK4lbAB0tJ"
      },
      "outputs": [],
      "source": [
        "#@title **Define a Function**\n",
        "def say_hello():\n",
        "    \"\"\"Return the word hello.\"\"\"\n",
        "    return 'Hello'\n",
        "\n",
        "def say_hello_to(name=None):\n",
        "  \"\"\"\n",
        "  Return the word hello to someone\n",
        "  \"\"\"\n",
        "  return 'Hello, '+str(name)\n",
        "\n",
        "# take an optional keyword argument\n",
        "def say_hello_or_hola(name, french=False):\n",
        "    \"\"\"Say hello in multiple languages.\"\"\"\n",
        "    if french:\n",
        "        greeting = 'Bonjour '\n",
        "    else:\n",
        "        greeting = 'Hello '\n",
        "    return greeting + name\n",
        "\n",
        "# flexible number of arguments\n",
        "def say_hello_to_everyone(*args):\n",
        "    return ['Bonjour ' + str(a) for a in args]"
      ]
    },
    {
      "cell_type": "code",
      "execution_count": 41,
      "metadata": {
        "colab": {
          "base_uri": "https://localhost:8080/"
        },
        "id": "lc7m5iPKB28A",
        "outputId": "62917276-01f3-4092-b4dc-e8ee228f5ff1"
      },
      "outputs": [
        {
          "output_type": "stream",
          "name": "stdout",
          "text": [
            "Hello\n",
            "Hello\n"
          ]
        }
      ],
      "source": [
        "print(say_hello())\n",
        "res = say_hello()\n",
        "print(res)"
      ]
    },
    {
      "cell_type": "code",
      "execution_count": 42,
      "metadata": {
        "id": "3mYjOk7QB_km",
        "colab": {
          "base_uri": "https://localhost:8080/"
        },
        "outputId": "b9541632-205e-41b3-b21a-1bd70dfe6b24"
      },
      "outputs": [
        {
          "output_type": "stream",
          "name": "stdout",
          "text": [
            "Bonjour Frédéric\n",
            "Hello Frédéric\n",
            "['Bonjour Niklas', 'Bonjour Valérie', 'Bonjour Marie-Élodie']\n"
          ]
        }
      ],
      "source": [
        "print(say_hello_or_hola('Frédéric', french=True)) # Greet the rector\n",
        "print(say_hello_or_hola('Frédéric', french=False))\n",
        "print(say_hello_to_everyone('Niklas', 'Valérie', 'Marie-Élodie')) # Greet the deans"
      ]
    },
    {
      "cell_type": "code",
      "execution_count": 44,
      "metadata": {
        "id": "4AgbvjCUCGOh",
        "colab": {
          "base_uri": "https://localhost:8080/"
        },
        "outputId": "3069c37c-1855-4acf-cd2c-5be705ab6925"
      },
      "outputs": [
        {
          "output_type": "stream",
          "name": "stdout",
          "text": [
            "20\n"
          ]
        }
      ],
      "source": [
        "#@title **Anonymous Function**\n",
        "mul = lambda a, b: a*b\n",
        "print(mul(4,5))"
      ]
    },
    {
      "cell_type": "code",
      "execution_count": 45,
      "metadata": {
        "id": "vJBzGbhBCKMp",
        "colab": {
          "base_uri": "https://localhost:8080/"
        },
        "outputId": "ed948b99-6b18-4b6a-8753-482d29efd2f6"
      },
      "outputs": [
        {
          "output_type": "execute_result",
          "data": {
            "text/plain": [
              "[1, 4, 9, 16, 25, 36, 49, 64, 81]"
            ]
          },
          "metadata": {},
          "execution_count": 45
        }
      ],
      "source": [
        "#@title **Map Function**\n",
        "# syntax: map(function,iterator)\n",
        "numbers = range(1, 10)\n",
        "def square(num):\n",
        "    return num**2\n",
        "list(map(square, numbers))\n",
        "# The equivalent of this function is:\n",
        "# result = []\n",
        "# for i in range(1, 10):\n",
        "#     result.append(i**2)"
      ]
    },
    {
      "cell_type": "code",
      "execution_count": 46,
      "metadata": {
        "id": "Y7wsf8UACMZl",
        "colab": {
          "base_uri": "https://localhost:8080/"
        },
        "outputId": "3badca13-888c-4474-ac8e-20b149bfd1b6"
      },
      "outputs": [
        {
          "output_type": "execute_result",
          "data": {
            "text/plain": [
              "[1, 4, 9, 16, 25, 36, 49, 64, 81]"
            ]
          },
          "metadata": {},
          "execution_count": 46
        }
      ],
      "source": [
        "# We can also write this in a single line!\n",
        "list(map(lambda x: x**2, range(1, 10)))"
      ]
    },
    {
      "cell_type": "code",
      "execution_count": 47,
      "metadata": {
        "id": "DTNuq98dCNqj",
        "colab": {
          "base_uri": "https://localhost:8080/"
        },
        "outputId": "0f76753b-e1b7-451f-9dbe-08f3ec354085"
      },
      "outputs": [
        {
          "output_type": "execute_result",
          "data": {
            "text/plain": [
              "[1, 3, 5, 7, 9]"
            ]
          },
          "metadata": {},
          "execution_count": 47
        }
      ],
      "source": [
        "# Return all values for which %2 is non zero.. (List of all odd numbers, right?)\n",
        "list(filter(lambda x: x%2, range(1, 10)))"
      ]
    },
    {
      "cell_type": "markdown",
      "metadata": {
        "id": "uDf3R29HCSIx"
      },
      "source": [
        "#### **Pure vs Impure Functions**\n",
        "Functions that don’t modify their arguments or produce any other side-effects are called *pure*.\n",
        "\n",
        "Functions that modify their arguments or cause other actions to occur are"
      ]
    },
    {
      "cell_type": "code",
      "execution_count": 48,
      "metadata": {
        "id": "ZFXukQonCSuA",
        "colab": {
          "base_uri": "https://localhost:8080/"
        },
        "outputId": "f99b96d1-a999-4d46-c00d-f519e6e80d96"
      },
      "outputs": [
        {
          "output_type": "stream",
          "name": "stdout",
          "text": [
            "['Niklas', 'Valérie']\n",
            "['Niklas']\n"
          ]
        }
      ],
      "source": [
        "# Impure Functions\n",
        "def remove_last_from_list(input_list):\n",
        "    input_list.pop()\n",
        "names = ['Niklas', 'Valérie', 'Marie-Élodie']\n",
        "remove_last_from_list(names)\n",
        "print(names)\n",
        "remove_last_from_list(names)\n",
        "print(names)"
      ]
    },
    {
      "cell_type": "code",
      "execution_count": 49,
      "metadata": {
        "id": "rWgib83NCVU9",
        "colab": {
          "base_uri": "https://localhost:8080/"
        },
        "outputId": "c0f46eb0-21fc-48e8-c9df-df1c17902ce4"
      },
      "outputs": [
        {
          "output_type": "stream",
          "name": "stdout",
          "text": [
            "['Niklas', 'Valérie', 'Marie-Élodie']\n",
            "['Niklas', 'Valérie']\n"
          ]
        }
      ],
      "source": [
        "#We can do something similar with a pure function. In general, pure functions are safer and more reliable.\n",
        "def remove_last_from_list_pure(input_list):\n",
        "    new_list = input_list.copy()\n",
        "    new_list.pop()\n",
        "    return new_list\n",
        "\n",
        "names = ['Niklas', 'Valérie', 'Marie-Élodie']\n",
        "new_names = remove_last_from_list_pure(names)\n",
        "print(names)\n",
        "print(new_names)"
      ]
    },
    {
      "cell_type": "markdown",
      "metadata": {
        "id": "6H4j6r_-CZBJ"
      },
      "source": [
        "#### **Namespace**\n",
        "In python, a namespace is a mapping between variable names and python object. You can think of it like a dictionary.\n",
        "The namespace can change depending on where you are in your program. Functions can “see” the variables in the parent namespace, but they can also redefine them in a private scope.\n",
        "\n",
        "It's important that you be aware of the name spaces in your code, specially when dealing with mutable objects."
      ]
    },
    {
      "cell_type": "code",
      "execution_count": 50,
      "metadata": {
        "id": "Yc5umEuVCaQv",
        "colab": {
          "base_uri": "https://localhost:8080/"
        },
        "outputId": "a1f26a98-2a0c-4612-cffb-36845a7ae096"
      },
      "outputs": [
        {
          "output_type": "stream",
          "name": "stdout",
          "text": [
            "Tom\n",
            "Estelle\n",
            "Tom\n"
          ]
        }
      ],
      "source": [
        "#Global vs local variables\n",
        "name = 'Tom' # Enter your name here\n",
        "def print_name():\n",
        "    print(name)\n",
        "\n",
        "def print_name_v2():\n",
        "    name = 'Estelle'\n",
        "    print(name)\n",
        "\n",
        "print_name()\n",
        "print_name_v2()\n",
        "print(name)"
      ]
    },
    {
      "cell_type": "code",
      "execution_count": 51,
      "metadata": {
        "id": "Q-0HxsCmCbie"
      },
      "outputs": [],
      "source": [
        "friends_list = ['Mario', 'Florence', 'Richard']\n",
        "pet_tuple = ('Hedwig', 'Na-paw-lyon', 'Cat-hilda')"
      ]
    },
    {
      "cell_type": "code",
      "execution_count": 53,
      "metadata": {
        "id": "FkdM5aWnCcxh"
      },
      "outputs": [],
      "source": [
        "def greeter(friends, pets):\n",
        "    print(\"It's time to say hi to my friends.\")\n",
        "    [print(f'Hi {name}! ', end=\"\") for name in friends]\n",
        "    print('\\nThese are the names of my pets:')\n",
        "    [print(f'{pet} ', end=\"\") for pet in pets]\n",
        "    print('\\n')\n",
        "\n",
        "def pets_are_friends(friends, pets):\n",
        "    print(\"I consider both my pets and my friend's pets my friends!\")\n",
        "\n",
        "    #add friend's pets\n",
        "    full_pets = pets\n",
        "    full_pets += ('Clifford', 'Crookshanks')\n",
        "\n",
        "    full_friends_list = friends\n",
        "    full_friends_list.extend(full_pets)\n",
        "\n",
        "    print('These are all my friends:')\n",
        "    [print(f'{name} ', end=\"\") for name in full_friends_list]\n",
        "    print('\\n')"
      ]
    },
    {
      "cell_type": "code",
      "execution_count": 54,
      "metadata": {
        "id": "aI8z7gV0CebN",
        "colab": {
          "base_uri": "https://localhost:8080/"
        },
        "outputId": "ae5a10b0-1b20-401c-8d8a-97dd5df1b831"
      },
      "outputs": [
        {
          "output_type": "stream",
          "name": "stdout",
          "text": [
            "It's time to say hi to my friends.\n",
            "Hi Mario! Hi Florence! Hi Richard! \n",
            "These are the names of my pets:\n",
            "Hedwig Na-paw-lyon Cat-hilda \n",
            "\n",
            "I consider both my pets and my friend's pets my friends!\n",
            "These are all my friends:\n",
            "Mario Florence Richard Hedwig Na-paw-lyon Cat-hilda Clifford Crookshanks \n",
            "\n",
            "It's time to say hi to my friends.\n",
            "Hi Mario! Hi Florence! Hi Richard! Hi Hedwig! Hi Na-paw-lyon! Hi Cat-hilda! Hi Clifford! Hi Crookshanks! \n",
            "These are the names of my pets:\n",
            "Hedwig Na-paw-lyon Cat-hilda \n",
            "\n"
          ]
        }
      ],
      "source": [
        "greeter(friends_list, pet_tuple)\n",
        "pets_are_friends(friends_list, pet_tuple)\n",
        "greeter(friends_list, pet_tuple)"
      ]
    },
    {
      "cell_type": "markdown",
      "metadata": {
        "id": "3pvm8Lo7Cgvi"
      },
      "source": [
        "### **Classes**\n",
        "We have worked with many different types of python objects so far:\n",
        "strings, lists, dictionaries, etc.\n",
        "These objects have different attributes and respond in different ways to\n",
        "the built-in functions (`len`, etc.)\n",
        "\n",
        "How can we make our own, custom objects? Answer: by defining classes."
      ]
    },
    {
      "cell_type": "markdown",
      "metadata": {
        "id": "tlhUVq_9Cp0J"
      },
      "source": [
        "#### **A class to represent a hurricane**\n",
        "\n",
        "Let's create our first class below,"
      ]
    },
    {
      "cell_type": "code",
      "execution_count": 56,
      "metadata": {
        "id": "WxZOIzTpChaH"
      },
      "outputs": [],
      "source": [
        "class Hurricane:\n",
        "\n",
        "    def __init__(self, name): #Created to make class easier to build. DUNDER.\n",
        "        self.name = name"
      ]
    },
    {
      "cell_type": "markdown",
      "metadata": {
        "id": "fdFHL4vmC1xl"
      },
      "source": [
        "And now let's create an *instance* of that class, `h`:"
      ]
    },
    {
      "cell_type": "code",
      "execution_count": 57,
      "metadata": {
        "colab": {
          "base_uri": "https://localhost:8080/"
        },
        "id": "3DS4U1GuCwV3",
        "outputId": "1064f042-93e8-4045-f9cf-d78afd0031b8"
      },
      "outputs": [
        {
          "output_type": "stream",
          "name": "stdout",
          "text": [
            "<__main__.Hurricane object at 0x7ab429649be0> florence\n"
          ]
        }
      ],
      "source": [
        "h = Hurricane('florence')\n",
        "print(h,h.name)"
      ]
    },
    {
      "cell_type": "markdown",
      "metadata": {
        "id": "MCk7twL4C61s"
      },
      "source": [
        "Let’s add more, along with some input validation:\n"
      ]
    },
    {
      "cell_type": "code",
      "execution_count": 60,
      "metadata": {
        "id": "rhrtC-TJC5ta"
      },
      "outputs": [],
      "source": [
        "class Hurricane:\n",
        "\n",
        "    def __init__(self, name, category, lon): #DUNDERS , special rules.\n",
        "        self.name = name.upper()\n",
        "        self.category = int(category)\n",
        "\n",
        "        if lon > 180 or lon < -180:\n",
        "            raise ValueError(f'Invalid lon {lon}')\n",
        "        self.lon = lon"
      ]
    },
    {
      "cell_type": "code",
      "execution_count": 59,
      "metadata": {
        "id": "sLdd00qRC_F4",
        "outputId": "38efc942-ebe0-4e96-df57-dd3dfb8ebe03",
        "colab": {
          "base_uri": "https://localhost:8080/",
          "height": 292
        }
      },
      "outputs": [
        {
          "output_type": "stream",
          "name": "stdout",
          "text": [
            "<__main__.Hurricane object at 0x7ab42966bf50> FLORENCE\n"
          ]
        },
        {
          "output_type": "error",
          "ename": "ValueError",
          "evalue": "Invalid lon 300",
          "traceback": [
            "\u001b[0;31m---------------------------------------------------------------------------\u001b[0m",
            "\u001b[0;31mValueError\u001b[0m                                Traceback (most recent call last)",
            "\u001b[0;32m/tmp/ipython-input-494610403.py\u001b[0m in \u001b[0;36m<cell line: 0>\u001b[0;34m()\u001b[0m\n\u001b[1;32m      1\u001b[0m \u001b[0mh\u001b[0m \u001b[0;34m=\u001b[0m \u001b[0mHurricane\u001b[0m\u001b[0;34m(\u001b[0m\u001b[0;34m'florence'\u001b[0m\u001b[0;34m,\u001b[0m \u001b[0;36m4\u001b[0m\u001b[0;34m,\u001b[0m \u001b[0;34m-\u001b[0m\u001b[0;36m46\u001b[0m\u001b[0;34m)\u001b[0m\u001b[0;34m\u001b[0m\u001b[0;34m\u001b[0m\u001b[0m\n\u001b[1;32m      2\u001b[0m \u001b[0mprint\u001b[0m\u001b[0;34m(\u001b[0m\u001b[0mh\u001b[0m\u001b[0;34m,\u001b[0m\u001b[0mh\u001b[0m\u001b[0;34m.\u001b[0m\u001b[0mname\u001b[0m\u001b[0;34m)\u001b[0m\u001b[0;34m\u001b[0m\u001b[0;34m\u001b[0m\u001b[0m\n\u001b[0;32m----> 3\u001b[0;31m \u001b[0mh\u001b[0m \u001b[0;34m=\u001b[0m \u001b[0mHurricane\u001b[0m\u001b[0;34m(\u001b[0m\u001b[0;34m'Ida'\u001b[0m\u001b[0;34m,\u001b[0m \u001b[0;36m5\u001b[0m\u001b[0;34m,\u001b[0m \u001b[0;36m300\u001b[0m\u001b[0;34m)\u001b[0m\u001b[0;34m\u001b[0m\u001b[0;34m\u001b[0m\u001b[0m\n\u001b[0m",
            "\u001b[0;32m/tmp/ipython-input-1391673170.py\u001b[0m in \u001b[0;36m__init__\u001b[0;34m(self, name, category, lon)\u001b[0m\n\u001b[1;32m      6\u001b[0m \u001b[0;34m\u001b[0m\u001b[0m\n\u001b[1;32m      7\u001b[0m         \u001b[0;32mif\u001b[0m \u001b[0mlon\u001b[0m \u001b[0;34m>\u001b[0m \u001b[0;36m180\u001b[0m \u001b[0;32mor\u001b[0m \u001b[0mlon\u001b[0m \u001b[0;34m<\u001b[0m \u001b[0;34m-\u001b[0m\u001b[0;36m180\u001b[0m\u001b[0;34m:\u001b[0m\u001b[0;34m\u001b[0m\u001b[0;34m\u001b[0m\u001b[0m\n\u001b[0;32m----> 8\u001b[0;31m             \u001b[0;32mraise\u001b[0m \u001b[0mValueError\u001b[0m\u001b[0;34m(\u001b[0m\u001b[0;34mf'Invalid lon {lon}'\u001b[0m\u001b[0;34m)\u001b[0m\u001b[0;34m\u001b[0m\u001b[0;34m\u001b[0m\u001b[0m\n\u001b[0m\u001b[1;32m      9\u001b[0m         \u001b[0mself\u001b[0m\u001b[0;34m.\u001b[0m\u001b[0mlon\u001b[0m \u001b[0;34m=\u001b[0m \u001b[0mlon\u001b[0m\u001b[0;34m\u001b[0m\u001b[0;34m\u001b[0m\u001b[0m\n",
            "\u001b[0;31mValueError\u001b[0m: Invalid lon 300"
          ]
        }
      ],
      "source": [
        "h = Hurricane('florence', 4, -46)\n",
        "print(h,h.name)\n",
        "h = Hurricane('Ida', 5, 300)"
      ]
    },
    {
      "cell_type": "code",
      "execution_count": null,
      "metadata": {
        "id": "cppN0ttsDAgE"
      },
      "outputs": [],
      "source": [
        "# Now let’s add a custom method:\n",
        "class Hurricane:\n",
        "\n",
        "    def __init__(self, name, category, lon):\n",
        "        self.name = name.upper()\n",
        "        self.category = int(category)\n",
        "\n",
        "        if lon > 180 or lon < -180:\n",
        "            raise ValueError(f'Invalid lon {lon}')\n",
        "        self.lon = lon\n",
        "\n",
        "    def is_dangerous(self):\n",
        "        return self.category > 1"
      ]
    },
    {
      "cell_type": "code",
      "execution_count": null,
      "metadata": {
        "id": "Z0iAkf9LDB0c"
      },
      "outputs": [],
      "source": [
        "f = Hurricane('florence', 4, -46)\n",
        "f.is_dangerous()"
      ]
    },
    {
      "cell_type": "markdown",
      "metadata": {
        "id": "upOCfE5jDEDr"
      },
      "source": [
        "#### **Magic / Dunder Methods**\n",
        "We can implement special methods that begin with double-underscores (i.e. “dunder” methods), which allow us to customize the behavior of our classes. ([Read more here](https://www.python-course.eu/python3_magic_methods.php)). We have already learned one: `__init__`. Let’s implement the `__repr__` method to make our class display something pretty."
      ]
    },
    {
      "cell_type": "code",
      "execution_count": null,
      "metadata": {
        "id": "6U_YXzB6DEpL"
      },
      "outputs": [],
      "source": [
        "class Hurricane:\n",
        "\n",
        "    def __init__(self, name, category, lon):\n",
        "        self.name = name.upper()\n",
        "        self.category = int(category)\n",
        "\n",
        "        if lon > 180 or lon < -180:\n",
        "            raise ValueError(f'Invalid lon {lon}')\n",
        "        self.lon = lon\n",
        "\n",
        "    def __repr__(self):\n",
        "        return f\"<Hurricane {self.name} (cat {self.category})>\"\n",
        "\n",
        "    def is_dangerous(self):\n",
        "        return self.category > 1"
      ]
    },
    {
      "cell_type": "code",
      "execution_count": null,
      "metadata": {
        "id": "SLxt3EqoDIAS"
      },
      "outputs": [],
      "source": [
        "f = Hurricane('florence', 4, -46)\n",
        "f"
      ]
    }
  ],
  "metadata": {
    "colab": {
      "name": "W1_S2_Tutorial.ipynb",
      "provenance": [],
      "toc_visible": true,
      "include_colab_link": true
    },
    "kernelspec": {
      "display_name": "myenv",
      "language": "python",
      "name": "python3"
    },
    "language_info": {
      "codemirror_mode": {
        "name": "ipython",
        "version": 3
      },
      "file_extension": ".py",
      "mimetype": "text/x-python",
      "name": "python",
      "nbconvert_exporter": "python",
      "pygments_lexer": "ipython3",
      "version": "3.8.18"
    }
  },
  "nbformat": 4,
  "nbformat_minor": 0
}